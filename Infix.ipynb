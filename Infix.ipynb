{
 "cells": [
  {
   "cell_type": "code",
   "execution_count": 1,
   "id": "native-comfort",
   "metadata": {},
   "outputs": [],
   "source": [
    "#!/usr/bin/env python\n",
    "# -*- coding: utf-8 -*-\n",
    "\n",
    "from __future__ import division\n",
    "import random\n",
    "from sympy import *\n",
    "\n",
    "IF_ELSE = set(['if-else'])\n",
    "BINARY_OPERATORS = set(['+', '-', '*', '/', '^', '<', '<=', '==', '>=', '>', '!=', 'and', 'or'])\n",
    "UNARY_OPERATORS = set(['log', 'sqrt', 'exp', 'sin'])\n",
    "\n",
    "### POSTFIX ===> INFIX ###\n",
    "'''\n",
    "1) When see an operand, push\n",
    "2) When see an operator, pop out two numbers, connect them into a substring and push back to the stack\n",
    "3) the top of the stack is the final infix expression.\n",
    "'''\n",
    "def postfix_to_infix(formula):\n",
    "    stack = []\n",
    "    for ch in formula.split():\n",
    "        if ch in BINARY_OPERATORS:\n",
    "            if ch == \"^\":\n",
    "                ch = \"**\"\n",
    "            b = stack.pop()\n",
    "            a = stack.pop()\n",
    "            expr = \"(\" + a + ch + b + \")\"\n",
    "            stack.append(expr)\n",
    "        elif ch in UNARY_OPERATORS:\n",
    "            a = stack.pop()\n",
    "            expr = ch + \"(\" + a + \")\"\n",
    "            stack.append(expr)\n",
    "        elif ch in IF_ELSE:\n",
    "            c = stack.pop()\n",
    "            b = stack.pop()\n",
    "            a = stack.pop()\n",
    "            expr = \"if(\" + c + \"){\\n\" + a + \"\\n}else{\\n\" + b + \"\\n}\"\n",
    "            stack.append(expr)\n",
    "        else:\n",
    "            stack.append(ch)\n",
    "\n",
    "    return stack[-1]\n",
    "\n",
    "def postfix_to_infix_pyton(formula):\n",
    "    stack = []\n",
    "    for ch in formula.split():\n",
    "        if ch in BINARY_OPERATORS:\n",
    "            if ch == \"^\":\n",
    "                ch = \"**\"\n",
    "            b = stack.pop()\n",
    "            a = stack.pop()\n",
    "            expr = \"(\" + a + ch + b + \")\"\n",
    "            stack.append(expr)\n",
    "        elif ch in UNARY_OPERATORS:\n",
    "            a = stack.pop()\n",
    "            expr = ch + \"(\" + a + \")\"\n",
    "            stack.append(expr)\n",
    "        elif ch in IF_ELSE:\n",
    "            c = stack.pop()\n",
    "            b = stack.pop()\n",
    "            a = stack.pop()\n",
    "            expr = \"if(\" + c + \"):\\n\" + a + \"\\nelse:\\n\" + b + \"\\n\"\n",
    "            stack.append(expr)\n",
    "        else:\n",
    "            stack.append(ch)\n",
    "\n",
    "    return stack[-1]\n",
    "\n",
    "# if __name__ == '__main__':\n",
    "#     infix = postfix_to_infix_pyton(\"cost income - cost return / + cost income - return income / + + cost return cost + - cost return * cost / + * income income return / ^ return return return * income cost * * * * /\")\n",
    "#     print(\"PG output: \" + infix)\n",
    "#     # print(\"Simplify: \" + str(simplify(infix)))\n"
   ]
  },
  {
   "cell_type": "code",
   "execution_count": 3,
   "id": "rental-country",
   "metadata": {},
   "outputs": [
    {
     "name": "stdout",
     "output_type": "stream",
     "text": [
      "PG output: ((x+((x**3)*3))-((((y*2)+1)*y)+(-3/3)))\n"
     ]
    }
   ],
   "source": [
    "model = \"x x 3 ^ 3 * + y 2 * 1 + y * -3 3 / + -\"\n",
    "infix = postfix_to_infix_pyton(model)\n",
    "print(\"PG output: \" + infix)"
   ]
  },
  {
   "cell_type": "code",
   "execution_count": null,
   "id": "collect-issue",
   "metadata": {},
   "outputs": [],
   "source": []
  }
 ],
 "metadata": {
  "kernelspec": {
   "display_name": "Python 3",
   "language": "python",
   "name": "python3"
  },
  "language_info": {
   "codemirror_mode": {
    "name": "ipython",
    "version": 3
   },
   "file_extension": ".py",
   "mimetype": "text/x-python",
   "name": "python",
   "nbconvert_exporter": "python",
   "pygments_lexer": "ipython3",
   "version": "3.8.10"
  }
 },
 "nbformat": 4,
 "nbformat_minor": 5
}
