{
 "cells": [
  {
   "cell_type": "code",
   "execution_count": 16,
   "id": "oriented-theta",
   "metadata": {},
   "outputs": [],
   "source": [
    "import numpy as np\n",
    "import pandas as pd"
   ]
  },
  {
   "cell_type": "code",
   "execution_count": 17,
   "id": "therapeutic-linux",
   "metadata": {},
   "outputs": [],
   "source": [
    "def continuous_f(X, Y):\n",
    "    r = []\n",
    "    \n",
    "    for x in X:\n",
    "        for y in Y:\n",
    "            r.append(3*x**3 - 2*y**2 + x - y + 1)\n",
    "            \n",
    "    return r\n",
    "\n",
    "def non_continuous_f(X, Y):\n",
    "    r = []\n",
    "    for x in X:\n",
    "        for y in Y:\n",
    "            if np.sqrt(x**2 + y**2) <= 0.5:\n",
    "                r.append(3*x**2 + 4*y**2)\n",
    "            else:\n",
    "                r.append(3 + np.sin(x) + np.cos(y))\n",
    "                \n",
    "    return r\n",
    "\n",
    "def classification(X, Y):\n",
    "    r = []\n",
    "    for x in X:\n",
    "        for y in Y:\n",
    "            if np.sqrt(x**2 + y**2) <= 0.5:\n",
    "                r.append(0)\n",
    "            elif np.sqrt(x**2 + y**2) <= 1.0:\n",
    "                r.append(1)\n",
    "            else:\n",
    "                r.append(2)\n",
    "                \n",
    "    return r\n",
    "\n",
    "def make_data(f):\n",
    "    n_samples = 100\n",
    "    X = np.linspace(-1, 1, n_samples)\n",
    "    Y = np.linspace(-1, 1, n_samples)\n",
    "\n",
    "    return X, Y, f(X, Y), n_samples"
   ]
  },
  {
   "cell_type": "code",
   "execution_count": 18,
   "id": "applicable-samba",
   "metadata": {},
   "outputs": [],
   "source": [
    "import plotly.io as pio\n",
    "import plotly.express as px\n",
    "pio.renderers.default = 'iframe' # or 'notebook' or 'colab\n",
    "\n",
    "import plotly.graph_objects as go\n",
    "\n",
    "\n",
    "def plot2d(F, n_samples, name):\n",
    "    z_data = np.reshape(F, (n_samples, n_samples))\n",
    "\n",
    "    fig = go.Figure(data = [go.Surface(z = z_data)])\n",
    "\n",
    "    fig.update_layout(title = name, autosize = False,\n",
    "                      width = 500, height = 500)\n",
    "\n",
    "    fig.show()\n",
    "    \n",
    "def plot_class(X, Y, Z, name):\n",
    "    n_x = []\n",
    "    n_y = []\n",
    "    \n",
    "    i = 0\n",
    "    for x in X:\n",
    "        for y in Y:\n",
    "            n_x.append(x)\n",
    "            n_y.append(y)\n",
    "    \n",
    "    fig = go.Figure(data=[go.Scatter3d(\n",
    "        x=n_x,\n",
    "        y=n_y,\n",
    "        z=Z,\n",
    "        mode='markers',\n",
    "        marker=dict(\n",
    "            size=1,\n",
    "            color=Z,                # set color to an array/list of desired values\n",
    "            colorscale='Viridis',   # choose a colorscale\n",
    "            opacity=0.8\n",
    "        )\n",
    "    )])\n",
    "\n",
    "    # tight layout\n",
    "    fig.update_layout(margin=dict(l=0, r=0, b=0, t=0))\n",
    "    fig.show()"
   ]
  },
  {
   "cell_type": "code",
   "execution_count": 19,
   "id": "stock-modern",
   "metadata": {},
   "outputs": [],
   "source": [
    "import os\n",
    "\n",
    "def archive(X, Y, Z, name):\n",
    "    try:\n",
    "        os.mkdir(\"input/\" + name)\n",
    "    except OSError as error: \n",
    "        print(error) \n",
    "    \n",
    "    grammar = \"input/\" + name + \"/grammar\"\n",
    "    data = \"input/\" + name + \"/data\"\n",
    "    groups = \"input/\" + name + \"/groups\"\n",
    "    \n",
    "#     with open(grammar, mode='w') as file_object:\n",
    "#         print(\"Write here your grammar\", file = file_object)\n",
    "        \n",
    "    with open(data, mode='w') as file_object:\n",
    "        print(2, 1, len(Z), file = file_object)\n",
    "        print(\"x y z\", file = file_object)\n",
    "        \n",
    "        i = 0\n",
    "        for x in X:\n",
    "            for y in Y:\n",
    "                print(x, y, Z[i], file = file_object)\n",
    "                i = i + 1\n",
    "        \n",
    "    with open(groups, mode='w') as file_object:\n",
    "        arr = np.array([i for i in range(0, len(Z))])\n",
    "        np.random.shuffle(arr)\n",
    "        \n",
    "        total = len(Z)\n",
    "        training = int(0.6 * total)\n",
    "        total = total - training\n",
    "        test = int(0.5 * total)\n",
    "        validation = test\n",
    "        \n",
    "        print(training, test, validation, file = file_object)\n",
    "        \n",
    "        for i in arr:\n",
    "            print(i, file = file_object)"
   ]
  },
  {
   "cell_type": "code",
   "execution_count": 20,
   "id": "bridal-ceiling",
   "metadata": {},
   "outputs": [
    {
     "data": {
      "text/html": [
       "<iframe\n",
       "    scrolling=\"no\"\n",
       "    width=\"520px\"\n",
       "    height=\"520\"\n",
       "    src=\"iframe_figures/figure_2.html\"\n",
       "    frameborder=\"0\"\n",
       "    allowfullscreen\n",
       "></iframe>\n"
      ]
     },
     "metadata": {},
     "output_type": "display_data"
    },
    {
     "name": "stdout",
     "output_type": "stream",
     "text": [
      "[Errno 17] File exists: 'input/continuous'\n"
     ]
    }
   ],
   "source": [
    "X, Y, F, n_samples = make_data(continuous_f)\n",
    "plot2d(F, n_samples, \"Contínua\")\n",
    "archive(X, Y, F, \"continuous\")"
   ]
  },
  {
   "cell_type": "code",
   "execution_count": 21,
   "id": "varying-governor",
   "metadata": {},
   "outputs": [
    {
     "data": {
      "text/html": [
       "<iframe\n",
       "    scrolling=\"no\"\n",
       "    width=\"520px\"\n",
       "    height=\"520\"\n",
       "    src=\"iframe_figures/figure_2.html\"\n",
       "    frameborder=\"0\"\n",
       "    allowfullscreen\n",
       "></iframe>\n"
      ]
     },
     "metadata": {},
     "output_type": "display_data"
    },
    {
     "name": "stdout",
     "output_type": "stream",
     "text": [
      "[Errno 17] File exists: 'input/non_continuous'\n"
     ]
    }
   ],
   "source": [
    "X, Y, F, n_samples = make_data(non_continuous_f)\n",
    "plot2d(F, n_samples, \"Descontínua\")\n",
    "archive(X, Y, F, \"non_continuous\")"
   ]
  },
  {
   "cell_type": "code",
   "execution_count": 22,
   "id": "fleet-idaho",
   "metadata": {},
   "outputs": [
    {
     "data": {
      "text/html": [
       "<iframe\n",
       "    scrolling=\"no\"\n",
       "    width=\"100%\"\n",
       "    height=\"545px\"\n",
       "    src=\"iframe_figures/figure_2.html\"\n",
       "    frameborder=\"0\"\n",
       "    allowfullscreen\n",
       "></iframe>\n"
      ]
     },
     "metadata": {},
     "output_type": "display_data"
    },
    {
     "name": "stdout",
     "output_type": "stream",
     "text": [
      "[Errno 17] File exists: 'input/classification'\n"
     ]
    }
   ],
   "source": [
    "X, Y, F, n_samples = make_data(classification)\n",
    "plot_class(X, Y, F, \"Classificação\")\n",
    "archive(X, Y, F, \"classification\")"
   ]
  },
  {
   "cell_type": "code",
   "execution_count": null,
   "id": "middle-maintenance",
   "metadata": {},
   "outputs": [],
   "source": []
  },
  {
   "cell_type": "code",
   "execution_count": null,
   "id": "urban-promise",
   "metadata": {},
   "outputs": [],
   "source": []
  }
 ],
 "metadata": {
  "kernelspec": {
   "display_name": "Python 3",
   "language": "python",
   "name": "python3"
  },
  "language_info": {
   "codemirror_mode": {
    "name": "ipython",
    "version": 3
   },
   "file_extension": ".py",
   "mimetype": "text/x-python",
   "name": "python",
   "nbconvert_exporter": "python",
   "pygments_lexer": "ipython3",
   "version": "3.8.10"
  }
 },
 "nbformat": 4,
 "nbformat_minor": 5
}
